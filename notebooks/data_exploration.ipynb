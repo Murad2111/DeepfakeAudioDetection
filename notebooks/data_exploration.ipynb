{
 "cells": [
  {
   "cell_type": "code",
   "execution_count": null,
   "id": "863c5282",
   "metadata": {},
   "outputs": [
    {
     "name": "stdout",
     "output_type": "stream",
     "text": [
      "First 5 rows of the training protocol:\n",
      "                 file label speaker    system\n",
      "LA_0079  LA_T_1138215     -       -  bonafide\n",
      "LA_0079  LA_T_1271820     -       -  bonafide\n",
      "LA_0079  LA_T_1272637     -       -  bonafide\n",
      "LA_0079  LA_T_1276960     -       -  bonafide\n",
      "LA_0079  LA_T_1341447     -       -  bonafide\n",
      "\n",
      "Counts of bonafide vs spoof audio files:\n",
      "label\n",
      "-    25380\n",
      "Name: count, dtype: int64\n"
     ]
    },
    {
     "name": "stderr",
     "output_type": "stream",
     "text": [
      "C:\\Users\\nasir\\AppData\\Local\\Temp\\ipykernel_25088\\4267245331.py:15: FutureWarning: The 'delim_whitespace' keyword in pd.read_csv is deprecated and will be removed in a future version. Use ``sep='\\s+'`` instead\n",
      "  train_protocol = pd.read_csv(\n"
     ]
    }
   ],
   "source": [
    "# 1️: Imports\n",
    "\n",
    "import pandas as pd\n",
    "\n",
    "# 2️: Path to the training protocol file\n",
    "# Make sure this matches your actual file location!\n",
    "protocol_path = r\"C:\\Users\\nasir\\OneDrive\\Desktop\\DeepfakeAudioDetection\\data\\raw\\LA\\ASVspoof2019_LA_cm_protocols\\ASVspoof2019.LA.cm.train.trn.txt\"\n",
    "\n",
    "\n",
    "# 3️: Load the protocol file into a DataFrame\n",
    "\n",
    "train_protocol = pd.read_csv(\n",
    "    protocol_path,\n",
    "    delim_whitespace=True,   \n",
    "    header=None,\n",
    "    names=[\"file\", \"label\", \"speaker\", \"system\"]\n",
    ")\n",
    "\n",
    "\n",
    "\n",
    "# 4️: Quick check\n",
    "\n",
    "print(\"First 5 rows of the training protocol:\")\n",
    "print(train_protocol.head())\n",
    "\n",
    "print(\"\\nCounts of bonafide vs spoof audio files:\")\n",
    "print(train_protocol['label'].value_counts())\n"
   ]
  }
 ],
 "metadata": {
  "kernelspec": {
   "display_name": "base",
   "language": "python",
   "name": "python3"
  },
  "language_info": {
   "codemirror_mode": {
    "name": "ipython",
    "version": 3
   },
   "file_extension": ".py",
   "mimetype": "text/x-python",
   "name": "python",
   "nbconvert_exporter": "python",
   "pygments_lexer": "ipython3",
   "version": "3.12.7"
  }
 },
 "nbformat": 4,
 "nbformat_minor": 5
}
